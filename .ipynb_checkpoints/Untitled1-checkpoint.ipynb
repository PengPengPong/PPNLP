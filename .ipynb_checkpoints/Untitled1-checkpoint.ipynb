{
 "cells": [
  {
   "cell_type": "code",
   "execution_count": 20,
   "metadata": {
    "collapsed": true
   },
   "outputs": [],
   "source": [
    "import re\n",
    "import collections\n",
    "import jieba\n",
    "def CleanPunc(String): # 删除所有非空格的标点符号以及数字，含中英文\n",
    "#     s=String.decode('utf-8')\n",
    "    s=String\n",
    "    text = re.sub(\"[\\s+\\.\\!\\/_,$%^*(+\\\"\\']+|[+——！，。？、<;>《》“”【】\\[\\]：·:；~@#￥%……&*（\\）)]+\",\"\",s)\n",
    "    return text\n",
    "\n",
    "def WordFreq(List):  # 对一个词列表，分词后统计词频\n",
    "    jobtitle=[]\n",
    "    for l in List:\n",
    "        l=l.replace('\\n','')\n",
    "        CleanText=CleanPunc(l)\n",
    "        words = jieba.cut(CleanText, cut_all=False)  # jieba分词完是个列表\n",
    "        for words_segments in words:\n",
    "#             clean_words_segments=Clean_Stop_Words(words_segments, job_stop_words) # 分词完去掉停词\n",
    "#             if len(clean_words_segments)>1:                                      # 如果词长大于1，则统计词频\n",
    "            jobtitle.append(words_segments)\n",
    "    wordfreq=collections.Counter(jobtitle)\n",
    "    wordfreq_sort=sorted(wordfreq.items(),key=lambda e:e[1],reverse=True)\n",
    "    return wordfreq_sort"
   ]
  },
  {
   "cell_type": "code",
   "execution_count": 18,
   "metadata": {
    "collapsed": true
   },
   "outputs": [],
   "source": [
    "with open('/Users/pp/pycharmprojects/nlp/pp.txt') as f:\n",
    "    text=f.read()"
   ]
  },
  {
   "cell_type": "code",
   "execution_count": 21,
   "metadata": {
    "collapsed": true
   },
   "outputs": [],
   "source": [
    "wordfreq_sort=WordFreq([text])"
   ]
  },
  {
   "cell_type": "code",
   "execution_count": 22,
   "metadata": {},
   "outputs": [
    {
     "name": "stdout",
     "output_type": "stream",
     "text": [
      "91339\n"
     ]
    }
   ],
   "source": [
    "print len(wordfreq_sort)"
   ]
  },
  {
   "cell_type": "code",
   "execution_count": 24,
   "metadata": {},
   "outputs": [
    {
     "name": "stdout",
     "output_type": "stream",
     "text": [
      "- 162714\n",
      "鍙 60979\n",
      "娆 52880\n",
      "殒 51447\n",
      "枃 51433\n",
      "鎺 29332\n",
      "鏂 28297\n",
      "娑 27735\n",
      "囨 27211\n",
      "涓 19760\n",
      "浣 15313\n",
      "鐒 13766\n",
      "10 13665\n",
      "ad47e733371014bb34488814f034f0c2016 13310\n",
      "2ad47e733371014bb34488814f034f0c2016 13157\n",
      "2ad47e733371014bb34488814f034f0c2017 12542\n",
      "ad47e733371014bb34488814f034f0c2017 12213\n",
      "鏄 11479\n",
      "浜 11428\n",
      "11 11373\n",
      "槸 10391\n",
      "12 10160\n",
      "03 9756\n",
      "浠 9379\n",
      "綘 8316\n",
      "笉 8197\n",
      "璇 7543\n",
      "01 7410\n",
      "涔 7016\n",
      "q6257155642016 7000\n",
      "09 6967\n",
      "04 6883\n",
      "6257155642016 6836\n",
      "灏 6453\n",
      "6257155642017 6222\n",
      "q6257155642017 6213\n",
      "鍝 6136\n",
      "驽 5817\n",
      "02 5557\n",
      "06 5464\n",
      "澶 4964\n",
      "鍟 4832\n",
      "簡 4729\n",
      "骀 4651\n",
      "铏 4611\n",
      "驿 4504\n",
      "濞 3956\n",
      "鎯 3943\n",
      "褰 3923\n",
      "05 3806\n",
      "鍏 3644\n",
      "釜 3621\n",
      "犲 3585\n",
      "寰 3449\n",
      "瀹 3402\n",
      "兘 3400\n",
      "绾 3312\n",
      "欎 3307\n",
      "嶆 3293\n",
      "缁 3249\n",
      "犱 3213\n",
      "娌 3176\n",
      "璁 3134\n",
      "氨 3067\n",
      "嶅 3040\n",
      "勫 3009\n",
      "骅 3002\n",
      "诲 2977\n",
      "勬 2899\n",
      "犺 2863\n",
      "収 2810\n",
      "瑰 2809\n",
      "澹 2801\n",
      "鍘 2765\n",
      "鐕 2749\n",
      "鍐 2724\n",
      "骁 2609\n",
      "犳 2593\n",
      "鏃 2546\n",
      "犵 2530\n",
      "闂 2477\n",
      "嶈 2385\n",
      "= 2372\n",
      "瑙 2369\n",
      "閮 2347\n",
      "跺 2319\n",
      "ㄧ 2267\n",
      "镐 2261\n",
      "℃ 2254\n",
      "病 2245\n",
      "囧 2142\n",
      "藉 2129\n",
      "稿 2117\n",
      "哥 2100\n",
      "鍗 2086\n",
      "铇 2076\n",
      "哄 2069\n",
      "鏍 2064\n",
      "棰 2057\n",
      "昏 2041\n"
     ]
    }
   ],
   "source": [
    "for i,j in wordfreq_sort[:100]:\n",
    "    print i,j"
   ]
  },
  {
   "cell_type": "code",
   "execution_count": 48,
   "metadata": {},
   "outputs": [
    {
     "name": "stdout",
     "output_type": "stream",
     "text": [
      "[3329 8698 7767 ..., 4700 7823 1686]\n",
      "[9999 9998 9997 ...,    2    1    0]\n",
      "[7 0 3 5 1 2 8 9 6 4]\n",
      "[9996 9998 9999 9997 9995 9991 9990 9992 9993 9994]\n",
      "552 µs ± 13 µs per loop (mean ± std. dev. of 7 runs, 1000 loops each)\n",
      "70.1 µs ± 1.71 µs per loop (mean ± std. dev. of 7 runs, 10000 loops each)\n",
      "1.28 ms ± 9.4 µs per loop (mean ± std. dev. of 7 runs, 1000 loops each)\n",
      "333 µs ± 3.9 µs per loop (mean ± std. dev. of 7 runs, 1000 loops each)\n",
      "50.7 µs ± 338 ns per loop (mean ± std. dev. of 7 runs, 10000 loops each)\n"
     ]
    }
   ],
   "source": []
  },
  {
   "cell_type": "code",
   "execution_count": 30,
   "metadata": {},
   "outputs": [
    {
     "name": "stdout",
     "output_type": "stream",
     "text": [
      "html5\n",
      "工程师\n"
     ]
    }
   ],
   "source": [
    "import jieba\n",
    "jieba.load_userdict('job_key_words_ForFunc.txt')\n",
    "for i in jieba.cut('html5工程师'):\n",
    "    print(i)"
   ]
  },
  {
   "cell_type": "code",
   "execution_count": 64,
   "metadata": {},
   "outputs": [
    {
     "name": "stdout",
     "output_type": "stream",
     "text": [
      "Model loaded succeed\n"
     ]
    }
   ],
   "source": [
    "\n"
   ]
  },
  {
   "cell_type": "code",
   "execution_count": 66,
   "metadata": {},
   "outputs": [
    {
     "name": "stdout",
     "output_type": "stream",
     "text": [
      "制图\n"
     ]
    }
   ],
   "source": [
    "text = thu1.cut(\"机械制图\", text=True)  #进行一句话分词\n",
    "print(text.split()[-1])"
   ]
  },
  {
   "cell_type": "code",
   "execution_count": 51,
   "metadata": {},
   "outputs": [],
   "source": [
    "a={'a':1,'b':2}"
   ]
  },
  {
   "cell_type": "code",
   "execution_count": 70,
   "metadata": {},
   "outputs": [
    {
     "name": "stdout",
     "output_type": "stream",
     "text": [
      "[]\n"
     ]
    }
   ],
   "source": [
    "a=[]\n",
    "print(a[1:])"
   ]
  },
  {
   "cell_type": "code",
   "execution_count": null,
   "metadata": {
    "collapsed": true
   },
   "outputs": [],
   "source": []
  }
 ],
 "metadata": {
  "kernelspec": {
   "display_name": "Python 2",
   "language": "python",
   "name": "python2"
  },
  "language_info": {
   "codemirror_mode": {
    "name": "ipython",
    "version": 3
   },
   "file_extension": ".py",
   "mimetype": "text/x-python",
   "name": "python",
   "nbconvert_exporter": "python",
   "pygments_lexer": "ipython3",
   "version": "3.6.1"
  }
 },
 "nbformat": 4,
 "nbformat_minor": 2
}
