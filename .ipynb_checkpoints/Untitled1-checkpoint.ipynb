{
 "cells": [
  {
   "cell_type": "code",
   "execution_count": 10,
   "metadata": {
    "collapsed": true
   },
   "outputs": [],
   "source": [
    "import re\n",
    "import collections\n",
    "import jieba\n",
    "def CleanPunc(String): # 删除所有非空格的标点符号以及数字，含中英文\n",
    "#     s=String.decode('utf-8')\n",
    "    s=String\n",
    "    text = re.sub(\"[\\s+\\.\\!\\/_,$%^*(+\\\"\\']+|[+——！，。？、<;>《》“”【】\\[\\]：·:；~@#￥%……&*（\\）)]+\".decode(\"utf8\"),\"\".decode(\"utf8\"),s)\n",
    "    return text\n",
    "\n",
    "def WordFreq(List):  # 对一个词列表，分词后统计词频\n",
    "    jobtitle=[]\n",
    "    for l in List:\n",
    "        l=l.replace('\\n','')\n",
    "        CleanText=CleanPunc(l)\n",
    "        words = jieba.cut(CleanText, cut_all=False)  # jieba分词完是个列表\n",
    "        for words_segments in words:\n",
    "#             clean_words_segments=Clean_Stop_Words(words_segments, job_stop_words) # 分词完去掉停词\n",
    "#             if len(clean_words_segments)>1:                                      # 如果词长大于1，则统计词频\n",
    "            jobtitle.append(words)\n",
    "    wordfreq=collections.Counter(jobtitle)\n",
    "    wordfreq_sort=sorted(wordfreq.items(),key=lambda e:e[1],reverse=True)\n",
    "    return wordfreq_sort"
   ]
  },
  {
   "cell_type": "code",
   "execution_count": 6,
   "metadata": {
    "collapsed": true
   },
   "outputs": [],
   "source": [
    "with open('/Users/pp/pycharmprojects/nlp/pp.txt') as f:\n",
    "    text=f.read()"
   ]
  },
  {
   "cell_type": "code",
   "execution_count": 11,
   "metadata": {},
   "outputs": [
    {
     "name": "stderr",
     "output_type": "stream",
     "text": [
      "Building prefix dict from the default dictionary ...\n",
      "Dumping model to file cache /var/folders/jw/hrjfyw4x1cvfwns1nngyc77c0000gn/T/jieba.cache\n",
      "Loading model cost 1.882 seconds.\n",
      "Prefix dict has been built succesfully.\n"
     ]
    },
    {
     "ename": "NameError",
     "evalue": "global name 'word' is not defined",
     "output_type": "error",
     "traceback": [
      "\u001b[0;31m---------------------------------------------------------------------------\u001b[0m",
      "\u001b[0;31mNameError\u001b[0m                                 Traceback (most recent call last)",
      "\u001b[0;32m<ipython-input-11-35d19b435c07>\u001b[0m in \u001b[0;36m<module>\u001b[0;34m()\u001b[0m\n\u001b[0;32m----> 1\u001b[0;31m \u001b[0mwordfreq_sort\u001b[0m\u001b[0;34m=\u001b[0m\u001b[0mWordFreq\u001b[0m\u001b[0;34m(\u001b[0m\u001b[0mtext\u001b[0m\u001b[0;34m)\u001b[0m\u001b[0;34m\u001b[0m\u001b[0m\n\u001b[0m",
      "\u001b[0;32m<ipython-input-10-e1b3970e9877>\u001b[0m in \u001b[0;36mWordFreq\u001b[0;34m(List)\u001b[0m\n\u001b[1;32m     17\u001b[0m \u001b[0;31m#             clean_words_segments=Clean_Stop_Words(words_segments, job_stop_words) # 分词完去掉停词\u001b[0m\u001b[0;34m\u001b[0m\u001b[0;34m\u001b[0m\u001b[0m\n\u001b[1;32m     18\u001b[0m \u001b[0;31m#             if len(clean_words_segments)>1:                                      # 如果词长大于1，则统计词频\u001b[0m\u001b[0;34m\u001b[0m\u001b[0;34m\u001b[0m\u001b[0m\n\u001b[0;32m---> 19\u001b[0;31m             \u001b[0mjobtitle\u001b[0m\u001b[0;34m.\u001b[0m\u001b[0mappend\u001b[0m\u001b[0;34m(\u001b[0m\u001b[0mword\u001b[0m\u001b[0;34m)\u001b[0m\u001b[0;34m\u001b[0m\u001b[0m\n\u001b[0m\u001b[1;32m     20\u001b[0m     \u001b[0mwordfreq\u001b[0m\u001b[0;34m=\u001b[0m\u001b[0mcollections\u001b[0m\u001b[0;34m.\u001b[0m\u001b[0mCounter\u001b[0m\u001b[0;34m(\u001b[0m\u001b[0mjobtitle\u001b[0m\u001b[0;34m)\u001b[0m\u001b[0;34m\u001b[0m\u001b[0m\n\u001b[1;32m     21\u001b[0m     \u001b[0mwordfreq_sort\u001b[0m\u001b[0;34m=\u001b[0m\u001b[0msorted\u001b[0m\u001b[0;34m(\u001b[0m\u001b[0mwordfreq\u001b[0m\u001b[0;34m.\u001b[0m\u001b[0mitems\u001b[0m\u001b[0;34m(\u001b[0m\u001b[0;34m)\u001b[0m\u001b[0;34m,\u001b[0m\u001b[0mkey\u001b[0m\u001b[0;34m=\u001b[0m\u001b[0;32mlambda\u001b[0m \u001b[0me\u001b[0m\u001b[0;34m:\u001b[0m\u001b[0me\u001b[0m\u001b[0;34m[\u001b[0m\u001b[0;36m1\u001b[0m\u001b[0;34m]\u001b[0m\u001b[0;34m,\u001b[0m\u001b[0mreverse\u001b[0m\u001b[0;34m=\u001b[0m\u001b[0mTrue\u001b[0m\u001b[0;34m)\u001b[0m\u001b[0;34m\u001b[0m\u001b[0m\n",
      "\u001b[0;31mNameError\u001b[0m: global name 'word' is not defined"
     ]
    }
   ],
   "source": [
    "wordfreq_sort=WordFreq(text)"
   ]
  },
  {
   "cell_type": "code",
   "execution_count": null,
   "metadata": {
    "collapsed": true
   },
   "outputs": [],
   "source": []
  }
 ],
 "metadata": {
  "kernelspec": {
   "display_name": "Python 2",
   "language": "python",
   "name": "python2"
  },
  "language_info": {
   "codemirror_mode": {
    "name": "ipython",
    "version": 2
   },
   "file_extension": ".py",
   "mimetype": "text/x-python",
   "name": "python",
   "nbconvert_exporter": "python",
   "pygments_lexer": "ipython2",
   "version": "2.7.13"
  }
 },
 "nbformat": 4,
 "nbformat_minor": 2
}
